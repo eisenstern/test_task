{
 "cells": [
  {
   "cell_type": "code",
   "execution_count": 1,
   "metadata": {},
   "outputs": [],
   "source": [
    "# Подгрузить библиотеки.\n",
    "\n",
    "import pandas as pd\n",
    "import numpy as np\n",
    "from numpy import sin, cos, arccos, pi, round\n",
    "import seaborn as sns\n",
    "import matplotlib.pyplot as plt\n",
    "from sklearn. model_selection import train_test_split\n",
    "from sklearn. linear_model import LogisticRegression\n",
    "from sklearn import metrics"
   ]
  },
  {
   "cell_type": "code",
   "execution_count": 2,
   "metadata": {
    "scrolled": false
   },
   "outputs": [
    {
     "data": {
      "text/html": [
       "<div>\n",
       "<style scoped>\n",
       "    .dataframe tbody tr th:only-of-type {\n",
       "        vertical-align: middle;\n",
       "    }\n",
       "\n",
       "    .dataframe tbody tr th {\n",
       "        vertical-align: top;\n",
       "    }\n",
       "\n",
       "    .dataframe thead th {\n",
       "        text-align: right;\n",
       "    }\n",
       "</style>\n",
       "<table border=\"1\" class=\"dataframe\">\n",
       "  <thead>\n",
       "    <tr style=\"text-align: right;\">\n",
       "      <th></th>\n",
       "      <th>offer_gk</th>\n",
       "      <th>weekday_key</th>\n",
       "      <th>hour_key</th>\n",
       "      <th>driver_gk</th>\n",
       "      <th>order_gk</th>\n",
       "      <th>driver_latitude</th>\n",
       "      <th>driver_longitude</th>\n",
       "      <th>origin_order_latitude</th>\n",
       "      <th>origin_order_longitude</th>\n",
       "      <th>distance_km</th>\n",
       "      <th>duration_min</th>\n",
       "      <th>offer_class_group</th>\n",
       "      <th>ride_type_desc</th>\n",
       "      <th>driver_response</th>\n",
       "    </tr>\n",
       "  </thead>\n",
       "  <tbody>\n",
       "    <tr>\n",
       "      <th>0</th>\n",
       "      <td>1105373</td>\n",
       "      <td>5</td>\n",
       "      <td>20</td>\n",
       "      <td>6080</td>\n",
       "      <td>174182</td>\n",
       "      <td>55.818842</td>\n",
       "      <td>37.334562</td>\n",
       "      <td>55.814567</td>\n",
       "      <td>37.355010</td>\n",
       "      <td>-1.000</td>\n",
       "      <td>-1.000</td>\n",
       "      <td>Economy</td>\n",
       "      <td>private</td>\n",
       "      <td>0</td>\n",
       "    </tr>\n",
       "    <tr>\n",
       "      <th>1</th>\n",
       "      <td>759733</td>\n",
       "      <td>5</td>\n",
       "      <td>14</td>\n",
       "      <td>6080</td>\n",
       "      <td>358774</td>\n",
       "      <td>55.805342</td>\n",
       "      <td>37.515023</td>\n",
       "      <td>55.819329</td>\n",
       "      <td>37.466398</td>\n",
       "      <td>18.802</td>\n",
       "      <td>25.217</td>\n",
       "      <td>Standard</td>\n",
       "      <td>private</td>\n",
       "      <td>1</td>\n",
       "    </tr>\n",
       "    <tr>\n",
       "      <th>2</th>\n",
       "      <td>416977</td>\n",
       "      <td>6</td>\n",
       "      <td>14</td>\n",
       "      <td>6080</td>\n",
       "      <td>866260</td>\n",
       "      <td>55.813978</td>\n",
       "      <td>37.347688</td>\n",
       "      <td>55.814827</td>\n",
       "      <td>37.354074</td>\n",
       "      <td>6.747</td>\n",
       "      <td>9.800</td>\n",
       "      <td>Economy</td>\n",
       "      <td>private</td>\n",
       "      <td>0</td>\n",
       "    </tr>\n",
       "    <tr>\n",
       "      <th>3</th>\n",
       "      <td>889660</td>\n",
       "      <td>2</td>\n",
       "      <td>6</td>\n",
       "      <td>6080</td>\n",
       "      <td>163522</td>\n",
       "      <td>55.745922</td>\n",
       "      <td>37.421748</td>\n",
       "      <td>55.743469</td>\n",
       "      <td>37.431130</td>\n",
       "      <td>-1.000</td>\n",
       "      <td>-1.000</td>\n",
       "      <td>Economy</td>\n",
       "      <td>private</td>\n",
       "      <td>1</td>\n",
       "    </tr>\n",
       "    <tr>\n",
       "      <th>4</th>\n",
       "      <td>1120055</td>\n",
       "      <td>4</td>\n",
       "      <td>16</td>\n",
       "      <td>6080</td>\n",
       "      <td>506710</td>\n",
       "      <td>55.803578</td>\n",
       "      <td>37.521602</td>\n",
       "      <td>55.812559</td>\n",
       "      <td>37.527407</td>\n",
       "      <td>12.383</td>\n",
       "      <td>19.250</td>\n",
       "      <td>Economy</td>\n",
       "      <td>private</td>\n",
       "      <td>1</td>\n",
       "    </tr>\n",
       "  </tbody>\n",
       "</table>\n",
       "</div>"
      ],
      "text/plain": [
       "   offer_gk  weekday_key  hour_key  driver_gk  order_gk  driver_latitude  \\\n",
       "0   1105373            5        20       6080    174182        55.818842   \n",
       "1    759733            5        14       6080    358774        55.805342   \n",
       "2    416977            6        14       6080    866260        55.813978   \n",
       "3    889660            2         6       6080    163522        55.745922   \n",
       "4   1120055            4        16       6080    506710        55.803578   \n",
       "\n",
       "   driver_longitude  origin_order_latitude  origin_order_longitude  \\\n",
       "0         37.334562              55.814567               37.355010   \n",
       "1         37.515023              55.819329               37.466398   \n",
       "2         37.347688              55.814827               37.354074   \n",
       "3         37.421748              55.743469               37.431130   \n",
       "4         37.521602              55.812559               37.527407   \n",
       "\n",
       "   distance_km  duration_min offer_class_group ride_type_desc  driver_response  \n",
       "0       -1.000        -1.000           Economy        private                0  \n",
       "1       18.802        25.217          Standard        private                1  \n",
       "2        6.747         9.800           Economy        private                0  \n",
       "3       -1.000        -1.000           Economy        private                1  \n",
       "4       12.383        19.250           Economy        private                1  "
      ]
     },
     "execution_count": 2,
     "metadata": {},
     "output_type": "execute_result"
    }
   ],
   "source": [
    "# Изучить данные. Отобразить общую информацию по признакам. Описать свои наблюдения.\n",
    "\n",
    "df = pd.read_csv('/mnt/HC_Volume_18315164/home-jupyter/jupyter-e-gabdulhanova/Test_task_Gabdulkhanova/dataset_taxi.xls')\n",
    "df.head()"
   ]
  },
  {
   "cell_type": "code",
   "execution_count": 3,
   "metadata": {
    "scrolled": true
   },
   "outputs": [
    {
     "data": {
      "text/plain": [
       "offer_gk                    int64\n",
       "weekday_key                 int64\n",
       "hour_key                    int64\n",
       "driver_gk                   int64\n",
       "order_gk                    int64\n",
       "driver_latitude           float64\n",
       "driver_longitude          float64\n",
       "origin_order_latitude     float64\n",
       "origin_order_longitude    float64\n",
       "distance_km               float64\n",
       "duration_min              float64\n",
       "offer_class_group          object\n",
       "ride_type_desc             object\n",
       "driver_response             int64\n",
       "dtype: object"
      ]
     },
     "execution_count": 3,
     "metadata": {},
     "output_type": "execute_result"
    }
   ],
   "source": [
    "df.dtypes"
   ]
  },
  {
   "cell_type": "markdown",
   "metadata": {},
   "source": [
    "### Описание данных\n",
    "- offer_gk: Уникальный ID предложения заказа водителю.  \n",
    "- weekday_key: Номер дня недели (начинается с 0, далее 1 и т.д. Так как по широте и долготе адреса российские, предположу, что начало недели - Понедельник).  \n",
    "- hour_key: Час в сутках, в течение которого было сделано предложение водителю (от 0 до 23).  \n",
    "- driver_gk: Уникальный ID водителя.  \n",
    "- order_gk: Уникальный ID исходной заявки пассажира. Судя по сравнению количества заявок и предложений водителям - по одной заявке может быть сделано несколько предложений разным водителям. \n",
    "- driver_latitude: Координаты нахождения водителя на момент предложения (широта)  \n",
    "- driver_longitude:  Координаты нахождения водителя на момент предложения (долгота)  \n",
    "- origin_order_latitude: Координаты нахождения пассажира на момент предложения (широта)  \n",
    "- origin_order_longitude: Координаты нахождения пассажира на момент предложения (долгота)  \n",
    "- distance_km: Предполагаемая дистанция поездки в км. В записях встречается значение -1, которое идёт в паре с таким же значением поля 'duration_min'. Можно предположить, что для таких заказов невозможно рассчитать предполагаемую дистанцию и время поездки, т.е. такси вызвано без обозначения конечной точки.  \n",
    "- duration_min: Предполагаемое время поездки в мин (-1 означает, что конечная точка не назначена)  \n",
    "- offer_class_group: Класс заказа. Значения: 'Economy', 'Standard', 'XL', 'Kids', 'Delivery', 'Test' (*нужно будет удалить*), 'Premium', 'VIP', 'VIP+'.  \n",
    "- ride_type_desc: Тип заказа. Значения: 'private', 'business', 'affiliate', 'SMB'.  \n",
    "- driver_response: Решение водителя о принятии заказа. Значения: 0 - заказ не принят, 1 - заказ принят. \n",
    "\n",
    "Уникальные значения и их количество проверялись через методы unique(), nunique()."
   ]
  },
  {
   "cell_type": "markdown",
   "metadata": {},
   "source": [
    "### Предварительный анализ\n",
    "\n",
    "Необходимо построить модель для предсказания ответа водителя на предложение заказа - согласится он его взять или нет.  \n",
    "Какие признаки можно учесть в анализе:  \n",
    "- Время заказа: 'weekday_key', 'hour_key'\n",
    "- Расстояние водителя от пассажира: можно рассчитать на основе 'driver_latitude', 'driver_longitude', 'origin_order_latitude', 'origin_order_longitude'\n",
    "- Предполагаемая длительность и время поездки: 'distance_km', 'duration_min'. Так как есть записи с неизвестной конечной точкой поездки, эти группы данных можно попробовать анализировать отдельно.\n",
    "- Категориальные характеристики заявки: 'offer_class_group', 'ride_type_desc'. Для анализа нужно будет преобразовать.  \n",
    "  \n",
    "Идентификаторы водителя, заказа и поездки вряд ли будут значимы."
   ]
  },
  {
   "cell_type": "code",
   "execution_count": 4,
   "metadata": {},
   "outputs": [],
   "source": [
    "# Выявить пропуски, а также возможные причины их возникновения. Решить, что следует сделать с ними. \n",
    "# Описать свои наблюдения и решение."
   ]
  },
  {
   "cell_type": "markdown",
   "metadata": {},
   "source": [
    "### Исследование данных\n",
    "Проверим данные на наличие пропусков и аномальные значения."
   ]
  },
  {
   "cell_type": "code",
   "execution_count": 5,
   "metadata": {},
   "outputs": [
    {
     "data": {
      "text/plain": [
       "offer_gk                  0\n",
       "weekday_key               0\n",
       "hour_key                  0\n",
       "driver_gk                 0\n",
       "order_gk                  0\n",
       "driver_latitude           0\n",
       "driver_longitude          0\n",
       "origin_order_latitude     0\n",
       "origin_order_longitude    0\n",
       "distance_km               0\n",
       "duration_min              0\n",
       "offer_class_group         0\n",
       "ride_type_desc            0\n",
       "driver_response           0\n",
       "dtype: int64"
      ]
     },
     "execution_count": 5,
     "metadata": {},
     "output_type": "execute_result"
    }
   ],
   "source": [
    "# Проверка на наличие NaN - таких значений в данных не нашлось.\n",
    "\n",
    "df.isna().sum()"
   ]
  },
  {
   "cell_type": "code",
   "execution_count": 6,
   "metadata": {},
   "outputs": [
    {
     "data": {
      "text/html": [
       "<div>\n",
       "<style scoped>\n",
       "    .dataframe tbody tr th:only-of-type {\n",
       "        vertical-align: middle;\n",
       "    }\n",
       "\n",
       "    .dataframe tbody tr th {\n",
       "        vertical-align: top;\n",
       "    }\n",
       "\n",
       "    .dataframe thead th {\n",
       "        text-align: right;\n",
       "    }\n",
       "</style>\n",
       "<table border=\"1\" class=\"dataframe\">\n",
       "  <thead>\n",
       "    <tr style=\"text-align: right;\">\n",
       "      <th></th>\n",
       "      <th>weekday_key</th>\n",
       "      <th>hour_key</th>\n",
       "      <th>driver_latitude</th>\n",
       "      <th>driver_longitude</th>\n",
       "      <th>origin_order_latitude</th>\n",
       "      <th>origin_order_longitude</th>\n",
       "      <th>distance_km</th>\n",
       "      <th>duration_min</th>\n",
       "      <th>driver_response</th>\n",
       "    </tr>\n",
       "  </thead>\n",
       "  <tbody>\n",
       "    <tr>\n",
       "      <th>count</th>\n",
       "      <td>100000.000000</td>\n",
       "      <td>100000.000000</td>\n",
       "      <td>100000.000000</td>\n",
       "      <td>100000.000000</td>\n",
       "      <td>100000.000000</td>\n",
       "      <td>100000.000000</td>\n",
       "      <td>100000.000000</td>\n",
       "      <td>100000.000000</td>\n",
       "      <td>100000.000000</td>\n",
       "    </tr>\n",
       "    <tr>\n",
       "      <th>mean</th>\n",
       "      <td>3.159860</td>\n",
       "      <td>13.827790</td>\n",
       "      <td>55.700824</td>\n",
       "      <td>37.492292</td>\n",
       "      <td>55.772440</td>\n",
       "      <td>37.541637</td>\n",
       "      <td>18.393518</td>\n",
       "      <td>23.134841</td>\n",
       "      <td>0.492480</td>\n",
       "    </tr>\n",
       "    <tr>\n",
       "      <th>std</th>\n",
       "      <td>2.054222</td>\n",
       "      <td>7.306496</td>\n",
       "      <td>2.135903</td>\n",
       "      <td>1.454640</td>\n",
       "      <td>0.665985</td>\n",
       "      <td>0.467758</td>\n",
       "      <td>41.129296</td>\n",
       "      <td>33.890105</td>\n",
       "      <td>0.499946</td>\n",
       "    </tr>\n",
       "    <tr>\n",
       "      <th>min</th>\n",
       "      <td>0.000000</td>\n",
       "      <td>0.000000</td>\n",
       "      <td>-1.000000</td>\n",
       "      <td>-1.000000</td>\n",
       "      <td>-1.000000</td>\n",
       "      <td>-1.000000</td>\n",
       "      <td>-1.000000</td>\n",
       "      <td>-1.000000</td>\n",
       "      <td>0.000000</td>\n",
       "    </tr>\n",
       "    <tr>\n",
       "      <th>25%</th>\n",
       "      <td>1.000000</td>\n",
       "      <td>8.000000</td>\n",
       "      <td>55.708651</td>\n",
       "      <td>37.413497</td>\n",
       "      <td>55.708032</td>\n",
       "      <td>37.407117</td>\n",
       "      <td>-1.000000</td>\n",
       "      <td>-1.000000</td>\n",
       "      <td>0.000000</td>\n",
       "    </tr>\n",
       "    <tr>\n",
       "      <th>50%</th>\n",
       "      <td>3.000000</td>\n",
       "      <td>16.000000</td>\n",
       "      <td>55.772904</td>\n",
       "      <td>37.533664</td>\n",
       "      <td>55.772561</td>\n",
       "      <td>37.532537</td>\n",
       "      <td>10.411500</td>\n",
       "      <td>19.700000</td>\n",
       "      <td>0.000000</td>\n",
       "    </tr>\n",
       "    <tr>\n",
       "      <th>75%</th>\n",
       "      <td>5.000000</td>\n",
       "      <td>20.000000</td>\n",
       "      <td>55.960667</td>\n",
       "      <td>37.624113</td>\n",
       "      <td>55.962000</td>\n",
       "      <td>37.624358</td>\n",
       "      <td>30.665250</td>\n",
       "      <td>37.867000</td>\n",
       "      <td>1.000000</td>\n",
       "    </tr>\n",
       "    <tr>\n",
       "      <th>max</th>\n",
       "      <td>6.000000</td>\n",
       "      <td>23.000000</td>\n",
       "      <td>56.174097</td>\n",
       "      <td>38.280547</td>\n",
       "      <td>56.311121</td>\n",
       "      <td>38.243608</td>\n",
       "      <td>5234.283000</td>\n",
       "      <td>3958.283000</td>\n",
       "      <td>1.000000</td>\n",
       "    </tr>\n",
       "  </tbody>\n",
       "</table>\n",
       "</div>"
      ],
      "text/plain": [
       "         weekday_key       hour_key  driver_latitude  driver_longitude  \\\n",
       "count  100000.000000  100000.000000    100000.000000     100000.000000   \n",
       "mean        3.159860      13.827790        55.700824         37.492292   \n",
       "std         2.054222       7.306496         2.135903          1.454640   \n",
       "min         0.000000       0.000000        -1.000000         -1.000000   \n",
       "25%         1.000000       8.000000        55.708651         37.413497   \n",
       "50%         3.000000      16.000000        55.772904         37.533664   \n",
       "75%         5.000000      20.000000        55.960667         37.624113   \n",
       "max         6.000000      23.000000        56.174097         38.280547   \n",
       "\n",
       "       origin_order_latitude  origin_order_longitude    distance_km  \\\n",
       "count          100000.000000           100000.000000  100000.000000   \n",
       "mean               55.772440               37.541637      18.393518   \n",
       "std                 0.665985                0.467758      41.129296   \n",
       "min                -1.000000               -1.000000      -1.000000   \n",
       "25%                55.708032               37.407117      -1.000000   \n",
       "50%                55.772561               37.532537      10.411500   \n",
       "75%                55.962000               37.624358      30.665250   \n",
       "max                56.311121               38.243608    5234.283000   \n",
       "\n",
       "        duration_min  driver_response  \n",
       "count  100000.000000    100000.000000  \n",
       "mean       23.134841         0.492480  \n",
       "std        33.890105         0.499946  \n",
       "min        -1.000000         0.000000  \n",
       "25%        -1.000000         0.000000  \n",
       "50%        19.700000         0.000000  \n",
       "75%        37.867000         1.000000  \n",
       "max      3958.283000         1.000000  "
      ]
     },
     "execution_count": 6,
     "metadata": {},
     "output_type": "execute_result"
    }
   ],
   "source": [
    "# Затем метод describe() для отслеживания аномалий (предварительно убрав столбцы с идентификаторами как неинформативные).\n",
    "\n",
    "df = df.drop(columns=['offer_gk', 'driver_gk', 'order_gk'])\n",
    "df.describe()"
   ]
  },
  {
   "cell_type": "markdown",
   "metadata": {},
   "source": [
    "Видим, что отсутствующие значения (-1) есть не только в столбцах, для которых это ожидаемо:  \n",
    "- distance_km\n",
    "- duration_min  \n",
    "\n",
    "Но и в данных по местонахождению пассажира и водителя:\n",
    "- driver_latitude\n",
    "- driver_longitude\n",
    "- origin_order_latitude\n",
    "- origin_order_longitude\n",
    "\n",
    "Исследуем записи с отсутствующими координатами."
   ]
  },
  {
   "cell_type": "code",
   "execution_count": 7,
   "metadata": {},
   "outputs": [
    {
     "data": {
      "text/plain": [
       "((140, 11), (140, 11))"
      ]
     },
     "execution_count": 7,
     "metadata": {},
     "output_type": "execute_result"
    }
   ],
   "source": [
    "# Сначала посчитаем.\n",
    "\n",
    "df[df['driver_latitude'] == -1].shape, df[df['driver_longitude'] == -1].shape"
   ]
  },
  {
   "cell_type": "code",
   "execution_count": 8,
   "metadata": {},
   "outputs": [
    {
     "data": {
      "text/plain": [
       "False"
      ]
     },
     "execution_count": 8,
     "metadata": {},
     "output_type": "execute_result"
    }
   ],
   "source": [
    "# Количество одинаковое. \n",
    "# Выясним - в одинаковых ли записях отсутствуют и долгота, и широта.\n",
    "\n",
    "driver_latitude_index = df[df['driver_latitude'] == -1].index\n",
    "driver_longitude_index = df[df['driver_longitude'] == -1].index\n",
    "\n",
    "False in (driver_latitude_index == driver_longitude_index)"
   ]
  },
  {
   "cell_type": "markdown",
   "metadata": {},
   "source": [
    "Выяснили, что у данных по местоположению водителя в записях, где нет информации, её нет по обоим признакам - и по широте, и по долготе.  \n",
    "Аналогично проверим по местоположению пассажира.\n"
   ]
  },
  {
   "cell_type": "code",
   "execution_count": 9,
   "metadata": {},
   "outputs": [
    {
     "data": {
      "text/plain": [
       "((13, 11), (13, 11))"
      ]
     },
     "execution_count": 9,
     "metadata": {},
     "output_type": "execute_result"
    }
   ],
   "source": [
    "# Считаем\n",
    "\n",
    "df[df['origin_order_latitude'] == -1].shape, df[df['origin_order_longitude'] == -1].shape"
   ]
  },
  {
   "cell_type": "code",
   "execution_count": 10,
   "metadata": {},
   "outputs": [
    {
     "data": {
      "text/plain": [
       "False"
      ]
     },
     "execution_count": 10,
     "metadata": {},
     "output_type": "execute_result"
    }
   ],
   "source": [
    "# Количество тоже одинаковое, хотя и значительно меньше, чем у водителей. \n",
    "# Выясним - в одинаковых ли записях отсутствуют и долгота, и широта.\n",
    "\n",
    "origin_latitude_index = df[df['origin_order_latitude'] == -1].index\n",
    "origin_longitude_index = df[df['origin_order_longitude'] == -1].index\n",
    "\n",
    "False in (origin_latitude_index == origin_longitude_index)"
   ]
  },
  {
   "cell_type": "markdown",
   "metadata": {},
   "source": [
    "Количество записей с пропусками информации по координатам небольшое, поэтому можно очистить от них весь набор данных."
   ]
  },
  {
   "cell_type": "code",
   "execution_count": 11,
   "metadata": {},
   "outputs": [],
   "source": [
    "df = df.drop(index=[*origin_latitude_index, *driver_latitude_index])"
   ]
  },
  {
   "cell_type": "code",
   "execution_count": 12,
   "metadata": {},
   "outputs": [
    {
     "data": {
      "text/html": [
       "<div>\n",
       "<style scoped>\n",
       "    .dataframe tbody tr th:only-of-type {\n",
       "        vertical-align: middle;\n",
       "    }\n",
       "\n",
       "    .dataframe tbody tr th {\n",
       "        vertical-align: top;\n",
       "    }\n",
       "\n",
       "    .dataframe thead th {\n",
       "        text-align: right;\n",
       "    }\n",
       "</style>\n",
       "<table border=\"1\" class=\"dataframe\">\n",
       "  <thead>\n",
       "    <tr style=\"text-align: right;\">\n",
       "      <th></th>\n",
       "      <th>weekday_key</th>\n",
       "      <th>hour_key</th>\n",
       "      <th>driver_latitude</th>\n",
       "      <th>driver_longitude</th>\n",
       "      <th>origin_order_latitude</th>\n",
       "      <th>origin_order_longitude</th>\n",
       "      <th>distance_km</th>\n",
       "      <th>duration_min</th>\n",
       "      <th>driver_response</th>\n",
       "    </tr>\n",
       "  </thead>\n",
       "  <tbody>\n",
       "    <tr>\n",
       "      <th>count</th>\n",
       "      <td>99847.000000</td>\n",
       "      <td>99847.000000</td>\n",
       "      <td>99847.000000</td>\n",
       "      <td>99847.000000</td>\n",
       "      <td>99847.000000</td>\n",
       "      <td>99847.000000</td>\n",
       "      <td>99847.000000</td>\n",
       "      <td>99847.000000</td>\n",
       "      <td>99847.000000</td>\n",
       "    </tr>\n",
       "    <tr>\n",
       "      <th>mean</th>\n",
       "      <td>3.160055</td>\n",
       "      <td>13.826635</td>\n",
       "      <td>55.780324</td>\n",
       "      <td>37.546255</td>\n",
       "      <td>55.780191</td>\n",
       "      <td>37.546314</td>\n",
       "      <td>18.412009</td>\n",
       "      <td>23.159354</td>\n",
       "      <td>0.491752</td>\n",
       "    </tr>\n",
       "    <tr>\n",
       "      <th>std</th>\n",
       "      <td>2.054491</td>\n",
       "      <td>7.308412</td>\n",
       "      <td>0.234164</td>\n",
       "      <td>0.196938</td>\n",
       "      <td>0.156110</td>\n",
       "      <td>0.159890</td>\n",
       "      <td>41.150741</td>\n",
       "      <td>33.901250</td>\n",
       "      <td>0.499934</td>\n",
       "    </tr>\n",
       "    <tr>\n",
       "      <th>min</th>\n",
       "      <td>0.000000</td>\n",
       "      <td>0.000000</td>\n",
       "      <td>0.000000</td>\n",
       "      <td>0.000000</td>\n",
       "      <td>55.327917</td>\n",
       "      <td>36.994072</td>\n",
       "      <td>-1.000000</td>\n",
       "      <td>-1.000000</td>\n",
       "      <td>0.000000</td>\n",
       "    </tr>\n",
       "    <tr>\n",
       "      <th>25%</th>\n",
       "      <td>1.000000</td>\n",
       "      <td>8.000000</td>\n",
       "      <td>55.709284</td>\n",
       "      <td>37.413497</td>\n",
       "      <td>55.708502</td>\n",
       "      <td>37.407117</td>\n",
       "      <td>-1.000000</td>\n",
       "      <td>-1.000000</td>\n",
       "      <td>0.000000</td>\n",
       "    </tr>\n",
       "    <tr>\n",
       "      <th>50%</th>\n",
       "      <td>3.000000</td>\n",
       "      <td>16.000000</td>\n",
       "      <td>55.773079</td>\n",
       "      <td>37.533872</td>\n",
       "      <td>55.772731</td>\n",
       "      <td>37.532191</td>\n",
       "      <td>10.442000</td>\n",
       "      <td>19.750000</td>\n",
       "      <td>0.000000</td>\n",
       "    </tr>\n",
       "    <tr>\n",
       "      <th>75%</th>\n",
       "      <td>5.000000</td>\n",
       "      <td>20.000000</td>\n",
       "      <td>55.960696</td>\n",
       "      <td>37.624235</td>\n",
       "      <td>55.962035</td>\n",
       "      <td>37.624145</td>\n",
       "      <td>30.695000</td>\n",
       "      <td>37.883000</td>\n",
       "      <td>1.000000</td>\n",
       "    </tr>\n",
       "    <tr>\n",
       "      <th>max</th>\n",
       "      <td>6.000000</td>\n",
       "      <td>23.000000</td>\n",
       "      <td>56.174097</td>\n",
       "      <td>38.280547</td>\n",
       "      <td>56.172361</td>\n",
       "      <td>38.243608</td>\n",
       "      <td>5234.283000</td>\n",
       "      <td>3958.283000</td>\n",
       "      <td>1.000000</td>\n",
       "    </tr>\n",
       "  </tbody>\n",
       "</table>\n",
       "</div>"
      ],
      "text/plain": [
       "        weekday_key      hour_key  driver_latitude  driver_longitude  \\\n",
       "count  99847.000000  99847.000000     99847.000000      99847.000000   \n",
       "mean       3.160055     13.826635        55.780324         37.546255   \n",
       "std        2.054491      7.308412         0.234164          0.196938   \n",
       "min        0.000000      0.000000         0.000000          0.000000   \n",
       "25%        1.000000      8.000000        55.709284         37.413497   \n",
       "50%        3.000000     16.000000        55.773079         37.533872   \n",
       "75%        5.000000     20.000000        55.960696         37.624235   \n",
       "max        6.000000     23.000000        56.174097         38.280547   \n",
       "\n",
       "       origin_order_latitude  origin_order_longitude   distance_km  \\\n",
       "count           99847.000000            99847.000000  99847.000000   \n",
       "mean               55.780191               37.546314     18.412009   \n",
       "std                 0.156110                0.159890     41.150741   \n",
       "min                55.327917               36.994072     -1.000000   \n",
       "25%                55.708502               37.407117     -1.000000   \n",
       "50%                55.772731               37.532191     10.442000   \n",
       "75%                55.962035               37.624145     30.695000   \n",
       "max                56.172361               38.243608   5234.283000   \n",
       "\n",
       "       duration_min  driver_response  \n",
       "count  99847.000000     99847.000000  \n",
       "mean      23.159354         0.491752  \n",
       "std       33.901250         0.499934  \n",
       "min       -1.000000         0.000000  \n",
       "25%       -1.000000         0.000000  \n",
       "50%       19.750000         0.000000  \n",
       "75%       37.883000         1.000000  \n",
       "max     3958.283000         1.000000  "
      ]
     },
     "execution_count": 12,
     "metadata": {},
     "output_type": "execute_result"
    }
   ],
   "source": [
    "df.describe()"
   ]
  },
  {
   "cell_type": "markdown",
   "metadata": {},
   "source": [
    "У водителя видим нулевое значение в координатах, исследуем аналогично."
   ]
  },
  {
   "cell_type": "code",
   "execution_count": 13,
   "metadata": {},
   "outputs": [
    {
     "data": {
      "text/plain": [
       "((1, 11), (1, 11))"
      ]
     },
     "execution_count": 13,
     "metadata": {},
     "output_type": "execute_result"
    }
   ],
   "source": [
    "df[df['driver_latitude'] == 0].shape, df[df['driver_longitude'] == 0].shape"
   ]
  },
  {
   "cell_type": "code",
   "execution_count": 14,
   "metadata": {},
   "outputs": [
    {
     "data": {
      "text/plain": [
       "array([ True])"
      ]
     },
     "execution_count": 14,
     "metadata": {},
     "output_type": "execute_result"
    }
   ],
   "source": [
    "# Количество записей совпадает. Проверяем, одна и та же эта запись или нет.\n",
    "\n",
    "driver_empty_latitude_index = df[df['driver_latitude'] == 0].index\n",
    "driver_empty_longitude_index = df[df['driver_longitude'] == 0].index\n",
    "\n",
    "driver_empty_latitude_index == driver_empty_longitude_index"
   ]
  },
  {
   "cell_type": "code",
   "execution_count": 15,
   "metadata": {},
   "outputs": [
    {
     "data": {
      "text/html": [
       "<div>\n",
       "<style scoped>\n",
       "    .dataframe tbody tr th:only-of-type {\n",
       "        vertical-align: middle;\n",
       "    }\n",
       "\n",
       "    .dataframe tbody tr th {\n",
       "        vertical-align: top;\n",
       "    }\n",
       "\n",
       "    .dataframe thead th {\n",
       "        text-align: right;\n",
       "    }\n",
       "</style>\n",
       "<table border=\"1\" class=\"dataframe\">\n",
       "  <thead>\n",
       "    <tr style=\"text-align: right;\">\n",
       "      <th></th>\n",
       "      <th>weekday_key</th>\n",
       "      <th>hour_key</th>\n",
       "      <th>driver_latitude</th>\n",
       "      <th>driver_longitude</th>\n",
       "      <th>origin_order_latitude</th>\n",
       "      <th>origin_order_longitude</th>\n",
       "      <th>distance_km</th>\n",
       "      <th>duration_min</th>\n",
       "      <th>driver_response</th>\n",
       "    </tr>\n",
       "  </thead>\n",
       "  <tbody>\n",
       "    <tr>\n",
       "      <th>count</th>\n",
       "      <td>99846.000000</td>\n",
       "      <td>99846.000000</td>\n",
       "      <td>99846.000000</td>\n",
       "      <td>99846.000000</td>\n",
       "      <td>99846.000000</td>\n",
       "      <td>99846.000000</td>\n",
       "      <td>99846.000000</td>\n",
       "      <td>99846.000000</td>\n",
       "      <td>99846.000000</td>\n",
       "    </tr>\n",
       "    <tr>\n",
       "      <th>mean</th>\n",
       "      <td>3.160087</td>\n",
       "      <td>13.826633</td>\n",
       "      <td>55.780883</td>\n",
       "      <td>37.546631</td>\n",
       "      <td>55.780195</td>\n",
       "      <td>37.546311</td>\n",
       "      <td>18.411756</td>\n",
       "      <td>23.159030</td>\n",
       "      <td>0.491757</td>\n",
       "    </tr>\n",
       "    <tr>\n",
       "      <th>std</th>\n",
       "      <td>2.054477</td>\n",
       "      <td>7.308449</td>\n",
       "      <td>0.153851</td>\n",
       "      <td>0.157053</td>\n",
       "      <td>0.156106</td>\n",
       "      <td>0.159887</td>\n",
       "      <td>41.150869</td>\n",
       "      <td>33.901266</td>\n",
       "      <td>0.499935</td>\n",
       "    </tr>\n",
       "    <tr>\n",
       "      <th>min</th>\n",
       "      <td>0.000000</td>\n",
       "      <td>0.000000</td>\n",
       "      <td>55.327636</td>\n",
       "      <td>36.984771</td>\n",
       "      <td>55.327917</td>\n",
       "      <td>36.994072</td>\n",
       "      <td>-1.000000</td>\n",
       "      <td>-1.000000</td>\n",
       "      <td>0.000000</td>\n",
       "    </tr>\n",
       "    <tr>\n",
       "      <th>25%</th>\n",
       "      <td>1.000000</td>\n",
       "      <td>8.000000</td>\n",
       "      <td>55.709285</td>\n",
       "      <td>37.413497</td>\n",
       "      <td>55.708502</td>\n",
       "      <td>37.407117</td>\n",
       "      <td>-1.000000</td>\n",
       "      <td>-1.000000</td>\n",
       "      <td>0.000000</td>\n",
       "    </tr>\n",
       "    <tr>\n",
       "      <th>50%</th>\n",
       "      <td>3.000000</td>\n",
       "      <td>16.000000</td>\n",
       "      <td>55.773085</td>\n",
       "      <td>37.533874</td>\n",
       "      <td>55.772734</td>\n",
       "      <td>37.532189</td>\n",
       "      <td>10.441500</td>\n",
       "      <td>19.750000</td>\n",
       "      <td>0.000000</td>\n",
       "    </tr>\n",
       "    <tr>\n",
       "      <th>75%</th>\n",
       "      <td>5.000000</td>\n",
       "      <td>20.000000</td>\n",
       "      <td>55.960697</td>\n",
       "      <td>37.624235</td>\n",
       "      <td>55.962035</td>\n",
       "      <td>37.624145</td>\n",
       "      <td>30.694750</td>\n",
       "      <td>37.883000</td>\n",
       "      <td>1.000000</td>\n",
       "    </tr>\n",
       "    <tr>\n",
       "      <th>max</th>\n",
       "      <td>6.000000</td>\n",
       "      <td>23.000000</td>\n",
       "      <td>56.174097</td>\n",
       "      <td>38.280547</td>\n",
       "      <td>56.172361</td>\n",
       "      <td>38.243608</td>\n",
       "      <td>5234.283000</td>\n",
       "      <td>3958.283000</td>\n",
       "      <td>1.000000</td>\n",
       "    </tr>\n",
       "  </tbody>\n",
       "</table>\n",
       "</div>"
      ],
      "text/plain": [
       "        weekday_key      hour_key  driver_latitude  driver_longitude  \\\n",
       "count  99846.000000  99846.000000     99846.000000      99846.000000   \n",
       "mean       3.160087     13.826633        55.780883         37.546631   \n",
       "std        2.054477      7.308449         0.153851          0.157053   \n",
       "min        0.000000      0.000000        55.327636         36.984771   \n",
       "25%        1.000000      8.000000        55.709285         37.413497   \n",
       "50%        3.000000     16.000000        55.773085         37.533874   \n",
       "75%        5.000000     20.000000        55.960697         37.624235   \n",
       "max        6.000000     23.000000        56.174097         38.280547   \n",
       "\n",
       "       origin_order_latitude  origin_order_longitude   distance_km  \\\n",
       "count           99846.000000            99846.000000  99846.000000   \n",
       "mean               55.780195               37.546311     18.411756   \n",
       "std                 0.156106                0.159887     41.150869   \n",
       "min                55.327917               36.994072     -1.000000   \n",
       "25%                55.708502               37.407117     -1.000000   \n",
       "50%                55.772734               37.532189     10.441500   \n",
       "75%                55.962035               37.624145     30.694750   \n",
       "max                56.172361               38.243608   5234.283000   \n",
       "\n",
       "       duration_min  driver_response  \n",
       "count  99846.000000     99846.000000  \n",
       "mean      23.159030         0.491757  \n",
       "std       33.901266         0.499935  \n",
       "min       -1.000000         0.000000  \n",
       "25%       -1.000000         0.000000  \n",
       "50%       19.750000         0.000000  \n",
       "75%       37.883000         1.000000  \n",
       "max     3958.283000         1.000000  "
      ]
     },
     "execution_count": 15,
     "metadata": {},
     "output_type": "execute_result"
    }
   ],
   "source": [
    "# Да, запись одна. Можно от неё избавиться.\n",
    "\n",
    "df = df.drop(index=driver_empty_latitude_index)\n",
    "df.describe()"
   ]
  },
  {
   "cell_type": "markdown",
   "metadata": {},
   "source": [
    "Рассматриваем аналогично поездки. Например, есть очень длинные и долгие.  \n",
    "Посмотрим, сколько их - учитывая среднее и медиану, возьмем за границу, например, 150 км."
   ]
  },
  {
   "cell_type": "code",
   "execution_count": 16,
   "metadata": {},
   "outputs": [
    {
     "data": {
      "text/plain": [
       "(78, 11)"
      ]
     },
     "execution_count": 16,
     "metadata": {},
     "output_type": "execute_result"
    }
   ],
   "source": [
    "df[df['distance_km'] > 150].shape"
   ]
  },
  {
   "cell_type": "code",
   "execution_count": 17,
   "metadata": {},
   "outputs": [
    {
     "data": {
      "text/html": [
       "<div>\n",
       "<style scoped>\n",
       "    .dataframe tbody tr th:only-of-type {\n",
       "        vertical-align: middle;\n",
       "    }\n",
       "\n",
       "    .dataframe tbody tr th {\n",
       "        vertical-align: top;\n",
       "    }\n",
       "\n",
       "    .dataframe thead th {\n",
       "        text-align: right;\n",
       "    }\n",
       "</style>\n",
       "<table border=\"1\" class=\"dataframe\">\n",
       "  <thead>\n",
       "    <tr style=\"text-align: right;\">\n",
       "      <th></th>\n",
       "      <th>weekday_key</th>\n",
       "      <th>hour_key</th>\n",
       "      <th>driver_latitude</th>\n",
       "      <th>driver_longitude</th>\n",
       "      <th>origin_order_latitude</th>\n",
       "      <th>origin_order_longitude</th>\n",
       "      <th>distance_km</th>\n",
       "      <th>duration_min</th>\n",
       "      <th>driver_response</th>\n",
       "    </tr>\n",
       "  </thead>\n",
       "  <tbody>\n",
       "    <tr>\n",
       "      <th>count</th>\n",
       "      <td>99768.000000</td>\n",
       "      <td>99768.000000</td>\n",
       "      <td>99768.000000</td>\n",
       "      <td>99768.000000</td>\n",
       "      <td>99768.000000</td>\n",
       "      <td>99768.000000</td>\n",
       "      <td>99768.000000</td>\n",
       "      <td>99768.000000</td>\n",
       "      <td>99768.000000</td>\n",
       "    </tr>\n",
       "    <tr>\n",
       "      <th>mean</th>\n",
       "      <td>3.159771</td>\n",
       "      <td>13.826137</td>\n",
       "      <td>55.780960</td>\n",
       "      <td>37.546563</td>\n",
       "      <td>55.780273</td>\n",
       "      <td>37.546242</td>\n",
       "      <td>17.770461</td>\n",
       "      <td>22.678656</td>\n",
       "      <td>0.491621</td>\n",
       "    </tr>\n",
       "    <tr>\n",
       "      <th>std</th>\n",
       "      <td>2.054533</td>\n",
       "      <td>7.309043</td>\n",
       "      <td>0.153807</td>\n",
       "      <td>0.157000</td>\n",
       "      <td>0.156061</td>\n",
       "      <td>0.159830</td>\n",
       "      <td>20.252737</td>\n",
       "      <td>20.744817</td>\n",
       "      <td>0.499932</td>\n",
       "    </tr>\n",
       "    <tr>\n",
       "      <th>min</th>\n",
       "      <td>0.000000</td>\n",
       "      <td>0.000000</td>\n",
       "      <td>55.327636</td>\n",
       "      <td>36.984771</td>\n",
       "      <td>55.327917</td>\n",
       "      <td>36.994072</td>\n",
       "      <td>-1.000000</td>\n",
       "      <td>-1.000000</td>\n",
       "      <td>0.000000</td>\n",
       "    </tr>\n",
       "    <tr>\n",
       "      <th>25%</th>\n",
       "      <td>1.000000</td>\n",
       "      <td>8.000000</td>\n",
       "      <td>55.709313</td>\n",
       "      <td>37.413497</td>\n",
       "      <td>55.708583</td>\n",
       "      <td>37.407117</td>\n",
       "      <td>-1.000000</td>\n",
       "      <td>-1.000000</td>\n",
       "      <td>0.000000</td>\n",
       "    </tr>\n",
       "    <tr>\n",
       "      <th>50%</th>\n",
       "      <td>3.000000</td>\n",
       "      <td>16.000000</td>\n",
       "      <td>55.773146</td>\n",
       "      <td>37.533839</td>\n",
       "      <td>55.772758</td>\n",
       "      <td>37.532104</td>\n",
       "      <td>10.418000</td>\n",
       "      <td>19.717000</td>\n",
       "      <td>0.000000</td>\n",
       "    </tr>\n",
       "    <tr>\n",
       "      <th>75%</th>\n",
       "      <td>5.000000</td>\n",
       "      <td>20.000000</td>\n",
       "      <td>55.960729</td>\n",
       "      <td>37.624173</td>\n",
       "      <td>55.962043</td>\n",
       "      <td>37.623995</td>\n",
       "      <td>30.611000</td>\n",
       "      <td>37.833000</td>\n",
       "      <td>1.000000</td>\n",
       "    </tr>\n",
       "    <tr>\n",
       "      <th>max</th>\n",
       "      <td>6.000000</td>\n",
       "      <td>23.000000</td>\n",
       "      <td>56.174097</td>\n",
       "      <td>38.280547</td>\n",
       "      <td>56.172361</td>\n",
       "      <td>38.243608</td>\n",
       "      <td>149.809000</td>\n",
       "      <td>139.500000</td>\n",
       "      <td>1.000000</td>\n",
       "    </tr>\n",
       "  </tbody>\n",
       "</table>\n",
       "</div>"
      ],
      "text/plain": [
       "        weekday_key      hour_key  driver_latitude  driver_longitude  \\\n",
       "count  99768.000000  99768.000000     99768.000000      99768.000000   \n",
       "mean       3.159771     13.826137        55.780960         37.546563   \n",
       "std        2.054533      7.309043         0.153807          0.157000   \n",
       "min        0.000000      0.000000        55.327636         36.984771   \n",
       "25%        1.000000      8.000000        55.709313         37.413497   \n",
       "50%        3.000000     16.000000        55.773146         37.533839   \n",
       "75%        5.000000     20.000000        55.960729         37.624173   \n",
       "max        6.000000     23.000000        56.174097         38.280547   \n",
       "\n",
       "       origin_order_latitude  origin_order_longitude   distance_km  \\\n",
       "count           99768.000000            99768.000000  99768.000000   \n",
       "mean               55.780273               37.546242     17.770461   \n",
       "std                 0.156061                0.159830     20.252737   \n",
       "min                55.327917               36.994072     -1.000000   \n",
       "25%                55.708583               37.407117     -1.000000   \n",
       "50%                55.772758               37.532104     10.418000   \n",
       "75%                55.962043               37.623995     30.611000   \n",
       "max                56.172361               38.243608    149.809000   \n",
       "\n",
       "       duration_min  driver_response  \n",
       "count  99768.000000     99768.000000  \n",
       "mean      22.678656         0.491621  \n",
       "std       20.744817         0.499932  \n",
       "min       -1.000000         0.000000  \n",
       "25%       -1.000000         0.000000  \n",
       "50%       19.717000         0.000000  \n",
       "75%       37.833000         1.000000  \n",
       "max      139.500000         1.000000  "
      ]
     },
     "execution_count": 17,
     "metadata": {},
     "output_type": "execute_result"
    }
   ],
   "source": [
    "# В контексте всего количества записей это немного, можно избавиться.\n",
    "\n",
    "long_distance_index = df[df['distance_km'] > 150].index\n",
    "df = df.drop(index=long_distance_index)\n",
    "df.describe()"
   ]
  },
  {
   "cell_type": "markdown",
   "metadata": {},
   "source": [
    "Можно еще проверить, нет ли пустых (нулевых) поездок по длительности и дистанции, т.е. поездка вряд ли состоялась."
   ]
  },
  {
   "cell_type": "code",
   "execution_count": 18,
   "metadata": {},
   "outputs": [
    {
     "data": {
      "text/plain": [
       "((152, 11), (152, 11))"
      ]
     },
     "execution_count": 18,
     "metadata": {},
     "output_type": "execute_result"
    }
   ],
   "source": [
    "df[df['distance_km'] == 0].shape, df[df['duration_min'] == 0].shape"
   ]
  },
  {
   "cell_type": "code",
   "execution_count": 19,
   "metadata": {},
   "outputs": [
    {
     "data": {
      "text/plain": [
       "False"
      ]
     },
     "execution_count": 19,
     "metadata": {},
     "output_type": "execute_result"
    }
   ],
   "source": [
    "# Смотрим, совпадают ли у этих записей индексы.\n",
    "\n",
    "empty_distance_index = df[df['distance_km'] == 0].index\n",
    "empty_duration_index = df[df['duration_min'] == 0].index\n",
    "\n",
    "False in (empty_distance_index == empty_duration_index)"
   ]
  },
  {
   "cell_type": "code",
   "execution_count": 20,
   "metadata": {
    "scrolled": true
   },
   "outputs": [
    {
     "data": {
      "text/html": [
       "<div>\n",
       "<style scoped>\n",
       "    .dataframe tbody tr th:only-of-type {\n",
       "        vertical-align: middle;\n",
       "    }\n",
       "\n",
       "    .dataframe tbody tr th {\n",
       "        vertical-align: top;\n",
       "    }\n",
       "\n",
       "    .dataframe thead th {\n",
       "        text-align: right;\n",
       "    }\n",
       "</style>\n",
       "<table border=\"1\" class=\"dataframe\">\n",
       "  <thead>\n",
       "    <tr style=\"text-align: right;\">\n",
       "      <th></th>\n",
       "      <th>weekday_key</th>\n",
       "      <th>hour_key</th>\n",
       "      <th>driver_latitude</th>\n",
       "      <th>driver_longitude</th>\n",
       "      <th>origin_order_latitude</th>\n",
       "      <th>origin_order_longitude</th>\n",
       "      <th>distance_km</th>\n",
       "      <th>duration_min</th>\n",
       "      <th>driver_response</th>\n",
       "    </tr>\n",
       "  </thead>\n",
       "  <tbody>\n",
       "    <tr>\n",
       "      <th>count</th>\n",
       "      <td>99616.000000</td>\n",
       "      <td>99616.000000</td>\n",
       "      <td>99616.000000</td>\n",
       "      <td>99616.000000</td>\n",
       "      <td>99616.000000</td>\n",
       "      <td>99616.000000</td>\n",
       "      <td>99616.000000</td>\n",
       "      <td>99616.000000</td>\n",
       "      <td>99616.000000</td>\n",
       "    </tr>\n",
       "    <tr>\n",
       "      <th>mean</th>\n",
       "      <td>3.159884</td>\n",
       "      <td>13.828562</td>\n",
       "      <td>55.780969</td>\n",
       "      <td>37.546515</td>\n",
       "      <td>55.780282</td>\n",
       "      <td>37.546196</td>\n",
       "      <td>17.797576</td>\n",
       "      <td>22.713261</td>\n",
       "      <td>0.491628</td>\n",
       "    </tr>\n",
       "    <tr>\n",
       "      <th>std</th>\n",
       "      <td>2.054433</td>\n",
       "      <td>7.307989</td>\n",
       "      <td>0.153810</td>\n",
       "      <td>0.156982</td>\n",
       "      <td>0.156063</td>\n",
       "      <td>0.159809</td>\n",
       "      <td>20.256274</td>\n",
       "      <td>20.741700</td>\n",
       "      <td>0.499932</td>\n",
       "    </tr>\n",
       "    <tr>\n",
       "      <th>min</th>\n",
       "      <td>0.000000</td>\n",
       "      <td>0.000000</td>\n",
       "      <td>55.327636</td>\n",
       "      <td>36.984771</td>\n",
       "      <td>55.327917</td>\n",
       "      <td>36.994072</td>\n",
       "      <td>-1.000000</td>\n",
       "      <td>-1.000000</td>\n",
       "      <td>0.000000</td>\n",
       "    </tr>\n",
       "    <tr>\n",
       "      <th>25%</th>\n",
       "      <td>1.000000</td>\n",
       "      <td>8.000000</td>\n",
       "      <td>55.709319</td>\n",
       "      <td>37.413497</td>\n",
       "      <td>55.708587</td>\n",
       "      <td>37.407117</td>\n",
       "      <td>-1.000000</td>\n",
       "      <td>-1.000000</td>\n",
       "      <td>0.000000</td>\n",
       "    </tr>\n",
       "    <tr>\n",
       "      <th>50%</th>\n",
       "      <td>3.000000</td>\n",
       "      <td>16.000000</td>\n",
       "      <td>55.773158</td>\n",
       "      <td>37.533812</td>\n",
       "      <td>55.772768</td>\n",
       "      <td>37.532104</td>\n",
       "      <td>10.459500</td>\n",
       "      <td>19.767000</td>\n",
       "      <td>0.000000</td>\n",
       "    </tr>\n",
       "    <tr>\n",
       "      <th>75%</th>\n",
       "      <td>5.000000</td>\n",
       "      <td>20.000000</td>\n",
       "      <td>55.960729</td>\n",
       "      <td>37.624125</td>\n",
       "      <td>55.962046</td>\n",
       "      <td>37.623950</td>\n",
       "      <td>30.666000</td>\n",
       "      <td>37.867000</td>\n",
       "      <td>1.000000</td>\n",
       "    </tr>\n",
       "    <tr>\n",
       "      <th>max</th>\n",
       "      <td>6.000000</td>\n",
       "      <td>23.000000</td>\n",
       "      <td>56.174097</td>\n",
       "      <td>38.280547</td>\n",
       "      <td>56.172361</td>\n",
       "      <td>38.243608</td>\n",
       "      <td>149.809000</td>\n",
       "      <td>139.500000</td>\n",
       "      <td>1.000000</td>\n",
       "    </tr>\n",
       "  </tbody>\n",
       "</table>\n",
       "</div>"
      ],
      "text/plain": [
       "        weekday_key      hour_key  driver_latitude  driver_longitude  \\\n",
       "count  99616.000000  99616.000000     99616.000000      99616.000000   \n",
       "mean       3.159884     13.828562        55.780969         37.546515   \n",
       "std        2.054433      7.307989         0.153810          0.156982   \n",
       "min        0.000000      0.000000        55.327636         36.984771   \n",
       "25%        1.000000      8.000000        55.709319         37.413497   \n",
       "50%        3.000000     16.000000        55.773158         37.533812   \n",
       "75%        5.000000     20.000000        55.960729         37.624125   \n",
       "max        6.000000     23.000000        56.174097         38.280547   \n",
       "\n",
       "       origin_order_latitude  origin_order_longitude   distance_km  \\\n",
       "count           99616.000000            99616.000000  99616.000000   \n",
       "mean               55.780282               37.546196     17.797576   \n",
       "std                 0.156063                0.159809     20.256274   \n",
       "min                55.327917               36.994072     -1.000000   \n",
       "25%                55.708587               37.407117     -1.000000   \n",
       "50%                55.772768               37.532104     10.459500   \n",
       "75%                55.962046               37.623950     30.666000   \n",
       "max                56.172361               38.243608    149.809000   \n",
       "\n",
       "       duration_min  driver_response  \n",
       "count  99616.000000     99616.000000  \n",
       "mean      22.713261         0.491628  \n",
       "std       20.741700         0.499932  \n",
       "min       -1.000000         0.000000  \n",
       "25%       -1.000000         0.000000  \n",
       "50%       19.767000         0.000000  \n",
       "75%       37.867000         1.000000  \n",
       "max      139.500000         1.000000  "
      ]
     },
     "execution_count": 20,
     "metadata": {},
     "output_type": "execute_result"
    }
   ],
   "source": [
    "# Это одни и те же записи. Их не слишком много, можно убрать.\n",
    "\n",
    "df = df.drop(index=empty_distance_index)\n",
    "df.describe()"
   ]
  },
  {
   "cell_type": "markdown",
   "metadata": {},
   "source": [
    "Исследуем заказы, где не была указана финальная точка поездки, следовательно, нельзя посчитать прогнозируемую дистанцию и время."
   ]
  },
  {
   "cell_type": "code",
   "execution_count": 21,
   "metadata": {},
   "outputs": [
    {
     "data": {
      "text/plain": [
       "((26083, 11), (26083, 11))"
      ]
     },
     "execution_count": 21,
     "metadata": {},
     "output_type": "execute_result"
    }
   ],
   "source": [
    "df[df['distance_km'] == -1].shape, df[df['duration_min'] == -1].shape"
   ]
  },
  {
   "cell_type": "code",
   "execution_count": 22,
   "metadata": {},
   "outputs": [
    {
     "data": {
      "text/plain": [
       "False"
      ]
     },
     "execution_count": 22,
     "metadata": {},
     "output_type": "execute_result"
    }
   ],
   "source": [
    "# Количество одинаковое и достаточно большое. Проверим на всякий случай совпадение этих признаков в записях по индексам.\n",
    "\n",
    "unknown_distance_index = df[df['distance_km'] == -1].index\n",
    "unknown_duration_index = df[df['duration_min'] == -1].index\n",
    "\n",
    "False in (unknown_distance_index == unknown_duration_index)"
   ]
  },
  {
   "cell_type": "markdown",
   "metadata": {},
   "source": [
    "Записей с неизвестными расстоянием поездки и длительностью много, они совпадают по индексам. Возможно, нужно анализировать отдельно."
   ]
  },
  {
   "cell_type": "markdown",
   "metadata": {},
   "source": [
    "### Преобразование данных"
   ]
  },
  {
   "cell_type": "markdown",
   "metadata": {},
   "source": [
    "Для корректного определения зависимостей нужно преобразовать данные:\n",
    "- рассчитать на основе координат расстояние от водителя до пассажира в момент заказа\n",
    "- преобразовать категориальные признаки для использования в моделях"
   ]
  },
  {
   "cell_type": "code",
   "execution_count": 23,
   "metadata": {},
   "outputs": [],
   "source": [
    "# Нашла набор функций для расчета расстояния между географическими координатами. \n",
    "# Geopy установить на учебный инструмент не могу, поэтому попыталась найти более ручное решение. \n",
    "\n",
    "def rad2deg(radians):\n",
    "    degrees = radians * 180 / pi\n",
    "    return degrees\n",
    "\n",
    "def deg2rad(degrees):\n",
    "    radians = degrees * pi / 180\n",
    "    return radians\n",
    "\n",
    "def getDistanceBetweenPointsNew(latitude1, longitude1, latitude2, longitude2, unit = 'miles'):\n",
    "    \n",
    "    theta = longitude1 - longitude2\n",
    "    \n",
    "    distance = 60 * 1.1515 * rad2deg(\n",
    "        arccos(\n",
    "            (sin(deg2rad(latitude1)) * sin(deg2rad(latitude2))) + \n",
    "            (cos(deg2rad(latitude1)) * cos(deg2rad(latitude2)) * cos(deg2rad(theta)))\n",
    "        )\n",
    "    )\n",
    "    \n",
    "    if unit == 'miles':\n",
    "        return round(distance, 2)\n",
    "    if unit == 'kilometers':\n",
    "        return round(distance * 1.609344, 2)"
   ]
  },
  {
   "cell_type": "code",
   "execution_count": 24,
   "metadata": {},
   "outputs": [
    {
     "data": {
      "text/html": [
       "<div>\n",
       "<style scoped>\n",
       "    .dataframe tbody tr th:only-of-type {\n",
       "        vertical-align: middle;\n",
       "    }\n",
       "\n",
       "    .dataframe tbody tr th {\n",
       "        vertical-align: top;\n",
       "    }\n",
       "\n",
       "    .dataframe thead th {\n",
       "        text-align: right;\n",
       "    }\n",
       "</style>\n",
       "<table border=\"1\" class=\"dataframe\">\n",
       "  <thead>\n",
       "    <tr style=\"text-align: right;\">\n",
       "      <th></th>\n",
       "      <th>weekday_key</th>\n",
       "      <th>hour_key</th>\n",
       "      <th>driver_latitude</th>\n",
       "      <th>driver_longitude</th>\n",
       "      <th>origin_order_latitude</th>\n",
       "      <th>origin_order_longitude</th>\n",
       "      <th>distance_km</th>\n",
       "      <th>duration_min</th>\n",
       "      <th>offer_class_group</th>\n",
       "      <th>ride_type_desc</th>\n",
       "      <th>driver_response</th>\n",
       "      <th>driver_order_distance</th>\n",
       "    </tr>\n",
       "  </thead>\n",
       "  <tbody>\n",
       "    <tr>\n",
       "      <th>0</th>\n",
       "      <td>5</td>\n",
       "      <td>20</td>\n",
       "      <td>55.818842</td>\n",
       "      <td>37.334562</td>\n",
       "      <td>55.814567</td>\n",
       "      <td>37.355010</td>\n",
       "      <td>-1.000</td>\n",
       "      <td>-1.000</td>\n",
       "      <td>Economy</td>\n",
       "      <td>private</td>\n",
       "      <td>0</td>\n",
       "      <td>1.36</td>\n",
       "    </tr>\n",
       "    <tr>\n",
       "      <th>1</th>\n",
       "      <td>5</td>\n",
       "      <td>14</td>\n",
       "      <td>55.805342</td>\n",
       "      <td>37.515023</td>\n",
       "      <td>55.819329</td>\n",
       "      <td>37.466398</td>\n",
       "      <td>18.802</td>\n",
       "      <td>25.217</td>\n",
       "      <td>Standard</td>\n",
       "      <td>private</td>\n",
       "      <td>1</td>\n",
       "      <td>3.41</td>\n",
       "    </tr>\n",
       "    <tr>\n",
       "      <th>2</th>\n",
       "      <td>6</td>\n",
       "      <td>14</td>\n",
       "      <td>55.813978</td>\n",
       "      <td>37.347688</td>\n",
       "      <td>55.814827</td>\n",
       "      <td>37.354074</td>\n",
       "      <td>6.747</td>\n",
       "      <td>9.800</td>\n",
       "      <td>Economy</td>\n",
       "      <td>private</td>\n",
       "      <td>0</td>\n",
       "      <td>0.41</td>\n",
       "    </tr>\n",
       "    <tr>\n",
       "      <th>3</th>\n",
       "      <td>2</td>\n",
       "      <td>6</td>\n",
       "      <td>55.745922</td>\n",
       "      <td>37.421748</td>\n",
       "      <td>55.743469</td>\n",
       "      <td>37.431130</td>\n",
       "      <td>-1.000</td>\n",
       "      <td>-1.000</td>\n",
       "      <td>Economy</td>\n",
       "      <td>private</td>\n",
       "      <td>1</td>\n",
       "      <td>0.65</td>\n",
       "    </tr>\n",
       "    <tr>\n",
       "      <th>4</th>\n",
       "      <td>4</td>\n",
       "      <td>16</td>\n",
       "      <td>55.803578</td>\n",
       "      <td>37.521602</td>\n",
       "      <td>55.812559</td>\n",
       "      <td>37.527407</td>\n",
       "      <td>12.383</td>\n",
       "      <td>19.250</td>\n",
       "      <td>Economy</td>\n",
       "      <td>private</td>\n",
       "      <td>1</td>\n",
       "      <td>1.06</td>\n",
       "    </tr>\n",
       "  </tbody>\n",
       "</table>\n",
       "</div>"
      ],
      "text/plain": [
       "   weekday_key  hour_key  driver_latitude  driver_longitude  \\\n",
       "0            5        20        55.818842         37.334562   \n",
       "1            5        14        55.805342         37.515023   \n",
       "2            6        14        55.813978         37.347688   \n",
       "3            2         6        55.745922         37.421748   \n",
       "4            4        16        55.803578         37.521602   \n",
       "\n",
       "   origin_order_latitude  origin_order_longitude  distance_km  duration_min  \\\n",
       "0              55.814567               37.355010       -1.000        -1.000   \n",
       "1              55.819329               37.466398       18.802        25.217   \n",
       "2              55.814827               37.354074        6.747         9.800   \n",
       "3              55.743469               37.431130       -1.000        -1.000   \n",
       "4              55.812559               37.527407       12.383        19.250   \n",
       "\n",
       "  offer_class_group ride_type_desc  driver_response  driver_order_distance  \n",
       "0           Economy        private                0                   1.36  \n",
       "1          Standard        private                1                   3.41  \n",
       "2           Economy        private                0                   0.41  \n",
       "3           Economy        private                1                   0.65  \n",
       "4           Economy        private                1                   1.06  "
      ]
     },
     "execution_count": 24,
     "metadata": {},
     "output_type": "execute_result"
    }
   ],
   "source": [
    "# Добавили новый столбец с расчётом расстояния между водителем и пассажиром\n",
    "\n",
    "df['driver_order_distance'] = getDistanceBetweenPointsNew(df['driver_latitude'], df['driver_longitude'], df['origin_order_latitude'], df['origin_order_longitude'], unit = 'kilometers')\n",
    "df.head()"
   ]
  },
  {
   "cell_type": "code",
   "execution_count": 25,
   "metadata": {},
   "outputs": [
    {
     "data": {
      "text/html": [
       "<div>\n",
       "<style scoped>\n",
       "    .dataframe tbody tr th:only-of-type {\n",
       "        vertical-align: middle;\n",
       "    }\n",
       "\n",
       "    .dataframe tbody tr th {\n",
       "        vertical-align: top;\n",
       "    }\n",
       "\n",
       "    .dataframe thead th {\n",
       "        text-align: right;\n",
       "    }\n",
       "</style>\n",
       "<table border=\"1\" class=\"dataframe\">\n",
       "  <thead>\n",
       "    <tr style=\"text-align: right;\">\n",
       "      <th></th>\n",
       "      <th>weekday_key</th>\n",
       "      <th>hour_key</th>\n",
       "      <th>distance_km</th>\n",
       "      <th>duration_min</th>\n",
       "      <th>offer_class_group</th>\n",
       "      <th>ride_type_desc</th>\n",
       "      <th>driver_response</th>\n",
       "      <th>driver_order_distance</th>\n",
       "    </tr>\n",
       "  </thead>\n",
       "  <tbody>\n",
       "    <tr>\n",
       "      <th>0</th>\n",
       "      <td>5</td>\n",
       "      <td>20</td>\n",
       "      <td>-1.000</td>\n",
       "      <td>-1.000</td>\n",
       "      <td>Economy</td>\n",
       "      <td>private</td>\n",
       "      <td>0</td>\n",
       "      <td>1.36</td>\n",
       "    </tr>\n",
       "    <tr>\n",
       "      <th>1</th>\n",
       "      <td>5</td>\n",
       "      <td>14</td>\n",
       "      <td>18.802</td>\n",
       "      <td>25.217</td>\n",
       "      <td>Standard</td>\n",
       "      <td>private</td>\n",
       "      <td>1</td>\n",
       "      <td>3.41</td>\n",
       "    </tr>\n",
       "    <tr>\n",
       "      <th>2</th>\n",
       "      <td>6</td>\n",
       "      <td>14</td>\n",
       "      <td>6.747</td>\n",
       "      <td>9.800</td>\n",
       "      <td>Economy</td>\n",
       "      <td>private</td>\n",
       "      <td>0</td>\n",
       "      <td>0.41</td>\n",
       "    </tr>\n",
       "    <tr>\n",
       "      <th>3</th>\n",
       "      <td>2</td>\n",
       "      <td>6</td>\n",
       "      <td>-1.000</td>\n",
       "      <td>-1.000</td>\n",
       "      <td>Economy</td>\n",
       "      <td>private</td>\n",
       "      <td>1</td>\n",
       "      <td>0.65</td>\n",
       "    </tr>\n",
       "    <tr>\n",
       "      <th>4</th>\n",
       "      <td>4</td>\n",
       "      <td>16</td>\n",
       "      <td>12.383</td>\n",
       "      <td>19.250</td>\n",
       "      <td>Economy</td>\n",
       "      <td>private</td>\n",
       "      <td>1</td>\n",
       "      <td>1.06</td>\n",
       "    </tr>\n",
       "  </tbody>\n",
       "</table>\n",
       "</div>"
      ],
      "text/plain": [
       "   weekday_key  hour_key  distance_km  duration_min offer_class_group  \\\n",
       "0            5        20       -1.000        -1.000           Economy   \n",
       "1            5        14       18.802        25.217          Standard   \n",
       "2            6        14        6.747         9.800           Economy   \n",
       "3            2         6       -1.000        -1.000           Economy   \n",
       "4            4        16       12.383        19.250           Economy   \n",
       "\n",
       "  ride_type_desc  driver_response  driver_order_distance  \n",
       "0        private                0                   1.36  \n",
       "1        private                1                   3.41  \n",
       "2        private                0                   0.41  \n",
       "3        private                1                   0.65  \n",
       "4        private                1                   1.06  "
      ]
     },
     "execution_count": 25,
     "metadata": {},
     "output_type": "execute_result"
    }
   ],
   "source": [
    "# Возможно, разумно будет удалить информацию о координатах, на основе которой мы посчитали расстояние.\n",
    "\n",
    "df = df.drop(columns=['driver_latitude', 'driver_longitude', 'origin_order_latitude', 'origin_order_longitude'])\n",
    "df.head()"
   ]
  },
  {
   "cell_type": "code",
   "execution_count": 26,
   "metadata": {},
   "outputs": [
    {
     "data": {
      "text/plain": [
       "array(['Economy', 'Standard', 'XL', 'Kids', 'Delivery', 'Test', 'Premium',\n",
       "       'VIP', 'VIP+'], dtype=object)"
      ]
     },
     "execution_count": 26,
     "metadata": {},
     "output_type": "execute_result"
    }
   ],
   "source": [
    "# В колонке \"offer_class_group\" в самом начале мы находили значение \"Test\", возможно, нужно от него избавиться.\n",
    "\n",
    "df['offer_class_group'].unique()"
   ]
  },
  {
   "cell_type": "code",
   "execution_count": 27,
   "metadata": {},
   "outputs": [
    {
     "data": {
      "text/plain": [
       "(8, 8)"
      ]
     },
     "execution_count": 27,
     "metadata": {},
     "output_type": "execute_result"
    }
   ],
   "source": [
    "# Посмотрим, сколько там записей.\n",
    "\n",
    "df_test = df[df['offer_class_group'] == 'Test']\n",
    "df_test.shape"
   ]
  },
  {
   "cell_type": "code",
   "execution_count": 28,
   "metadata": {},
   "outputs": [],
   "source": [
    "# Совсем немного, можно убрать.\n",
    "\n",
    "df = df.query('offer_class_group != \"Test\"')"
   ]
  },
  {
   "cell_type": "code",
   "execution_count": 29,
   "metadata": {},
   "outputs": [
    {
     "data": {
      "text/plain": [
       "Index(['weekday_key', 'hour_key', 'distance_km', 'duration_min',\n",
       "       'driver_response', 'driver_order_distance', 'offer_class_group_Economy',\n",
       "       'offer_class_group_Kids', 'offer_class_group_Premium',\n",
       "       'offer_class_group_Standard', 'offer_class_group_VIP',\n",
       "       'offer_class_group_VIP+', 'offer_class_group_XL',\n",
       "       'ride_type_desc_affiliate', 'ride_type_desc_business',\n",
       "       'ride_type_desc_private'],\n",
       "      dtype='object')"
      ]
     },
     "execution_count": 29,
     "metadata": {},
     "output_type": "execute_result"
    }
   ],
   "source": [
    "df = pd.get_dummies(df, drop_first = True)\n",
    "\n",
    "df.columns"
   ]
  },
  {
   "cell_type": "markdown",
   "metadata": {},
   "source": [
    "### Зависимость переменных между собой"
   ]
  },
  {
   "cell_type": "markdown",
   "metadata": {},
   "source": [
    "Разделим для анализа все данные на 2 части, в зависимости от наличия информации о конечной точке."
   ]
  },
  {
   "cell_type": "code",
   "execution_count": 30,
   "metadata": {},
   "outputs": [],
   "source": [
    "df_with_final = df[df['distance_km'] != -1]\n",
    "df_without_final = df[df['distance_km'] == -1]\n",
    "\n",
    "df_without_final = df_without_final.drop(columns=['distance_km', 'duration_min'])"
   ]
  },
  {
   "cell_type": "code",
   "execution_count": 31,
   "metadata": {},
   "outputs": [
    {
     "data": {
      "text/plain": [
       "((73533, 16), (26075, 14))"
      ]
     },
     "execution_count": 31,
     "metadata": {},
     "output_type": "execute_result"
    }
   ],
   "source": [
    "df_with_final.shape, df_without_final.shape"
   ]
  },
  {
   "cell_type": "code",
   "execution_count": 32,
   "metadata": {},
   "outputs": [
    {
     "data": {
      "image/png": "[encoded data removed]",
      "text/plain": [
       "<Figure size 1080x720 with 2 Axes>"
      ]
     },
     "metadata": {
      "needs_background": "light"
     },
     "output_type": "display_data"
    }
   ],
   "source": [
    "# Можно посмотреть корреляцию переменных между собой.\n",
    "\n",
    "plt.figure(figsize=(15, 10))\n",
    "\n",
    "sns.heatmap(df_with_final.corr(method='spearman'), annot=True, linewidths=0.5, cmap='YlGn')\n",
    "plt.show()"
   ]
  },
  {
   "cell_type": "markdown",
   "metadata": {},
   "source": [
    "Кажется, можно усмотреть небольшую отрицательную корреляцию между ответом водителя и расстоянием и временем предполагаемой поездки.  \n",
    "Также есть логичная корреляция между расстоянием поездки и её длительностью - создаёт мультиколлинеарность, лучше убрать один из признаков; между классами заказа; между типами заказа."
   ]
  },
  {
   "cell_type": "code",
   "execution_count": 33,
   "metadata": {},
   "outputs": [
    {
     "data": {
      "image/png": "[encoded data removed]",
      "text/plain": [
       "<Figure size 1080x720 with 2 Axes>"
      ]
     },
     "metadata": {
      "needs_background": "light"
     },
     "output_type": "display_data"
    }
   ],
   "source": [
    "# В данных без информации о конечной точке поездки остальные корреляции, кажется, аналогичны.\n",
    "\n",
    "plt.figure(figsize=(15, 10))\n",
    "\n",
    "sns.heatmap(df_without_final.corr(method='spearman'), annot=True, linewidths=0.5, cmap='YlGn')\n",
    "plt.show()"
   ]
  },
  {
   "cell_type": "markdown",
   "metadata": {},
   "source": [
    "### Модели с известной финальной точкой поездки"
   ]
  },
  {
   "cell_type": "markdown",
   "metadata": {},
   "source": [
    "Посмотрим на результат модели с учетом всех признаков (кроме duration_min, он сильно коррелирует с distance_km, можно оставить только его)."
   ]
  },
  {
   "cell_type": "code",
   "execution_count": 34,
   "metadata": {},
   "outputs": [],
   "source": [
    "X = df_with_final[['weekday_key', 'hour_key', 'distance_km', 'driver_order_distance', 'offer_class_group_Economy',\n",
    "       'offer_class_group_Kids', 'offer_class_group_Premium',\n",
    "       'offer_class_group_Standard', 'offer_class_group_VIP',\n",
    "       'offer_class_group_VIP+', 'offer_class_group_XL',\n",
    "       'ride_type_desc_affiliate', 'ride_type_desc_business',\n",
    "       'ride_type_desc_private']]\n",
    "Y = df_with_final['driver_response']\n",
    "\n",
    "X_train, X_test, Y_train, Y_test = train_test_split(X, Y, test_size=0.3, random_state=0) "
   ]
  },
  {
   "cell_type": "code",
   "execution_count": 35,
   "metadata": {},
   "outputs": [
    {
     "name": "stdout",
     "output_type": "stream",
     "text": [
      "Accuracy: 0.67838\n"
     ]
    }
   ],
   "source": [
    "classifier = LogisticRegression(solver='liblinear',random_state=0)\n",
    "classifier.fit(X_train, Y_train)\n",
    "predicted_y = classifier.predict(X_test)\n",
    "print('Accuracy: {:.5f}'.format(classifier.score(X_test, Y_test)))"
   ]
  },
  {
   "cell_type": "markdown",
   "metadata": {},
   "source": [
    "Рассмотрим только расчетное расстояние поездки и расстояние от водителя до заказа."
   ]
  },
  {
   "cell_type": "code",
   "execution_count": 36,
   "metadata": {},
   "outputs": [],
   "source": [
    "X_2 = df_with_final[['distance_km', 'driver_order_distance']]\n",
    "Y_2 = df_with_final['driver_response']\n",
    "\n",
    "X_2_train, X_2_test, Y_2_train, Y_2_test = train_test_split(X_2, Y_2, test_size=0.3, random_state=0) "
   ]
  },
  {
   "cell_type": "code",
   "execution_count": 37,
   "metadata": {},
   "outputs": [
    {
     "name": "stdout",
     "output_type": "stream",
     "text": [
      "Accuracy: 0.67611\n"
     ]
    }
   ],
   "source": [
    "classifier = LogisticRegression(solver='liblinear',random_state=0)\n",
    "classifier.fit(X_2_train, Y_2_train)\n",
    "predicted_y = classifier.predict(X_2_test)\n",
    "print('Accuracy: {:.5f}'.format(classifier.score(X_2_test, Y_2_test)))"
   ]
  },
  {
   "cell_type": "markdown",
   "metadata": {},
   "source": [
    "Результат почти такой же, как при анализе полного списка характеристик.  \n",
    "Влияет ли класс заказа?"
   ]
  },
  {
   "cell_type": "code",
   "execution_count": 38,
   "metadata": {},
   "outputs": [],
   "source": [
    "X_3 = df_with_final[['offer_class_group_Economy',\n",
    "       'offer_class_group_Kids', 'offer_class_group_Premium',\n",
    "       'offer_class_group_Standard', 'offer_class_group_VIP',\n",
    "       'offer_class_group_VIP+', 'offer_class_group_XL']]\n",
    "Y_3 = df_with_final['driver_response']\n",
    "\n",
    "X_3_train, X_3_test, Y_3_train, Y_3_test = train_test_split(X_3, Y_3, test_size=0.3, random_state=0) "
   ]
  },
  {
   "cell_type": "code",
   "execution_count": 39,
   "metadata": {},
   "outputs": [
    {
     "name": "stdout",
     "output_type": "stream",
     "text": [
      "Accuracy: 0.54986\n"
     ]
    }
   ],
   "source": [
    "classifier = LogisticRegression(solver='liblinear',random_state=0)\n",
    "classifier.fit(X_3_train, Y_3_train)\n",
    "predicted_y = classifier.predict(X_3_test)\n",
    "print('Accuracy: {:.5f}'.format(classifier.score(X_3_test, Y_3_test)))"
   ]
  },
  {
   "cell_type": "markdown",
   "metadata": {},
   "source": [
    "Влияет ли тип поездки?"
   ]
  },
  {
   "cell_type": "code",
   "execution_count": 40,
   "metadata": {},
   "outputs": [],
   "source": [
    "X_4 = df_with_final[['ride_type_desc_affiliate', 'ride_type_desc_business',\n",
    "       'ride_type_desc_private']]\n",
    "Y_4 = df_with_final['driver_response']\n",
    "\n",
    "X_4_train, X_4_test, Y_4_train, Y_4_test = train_test_split(X_4, Y_4, test_size=0.3, random_state=0) "
   ]
  },
  {
   "cell_type": "code",
   "execution_count": 41,
   "metadata": {},
   "outputs": [
    {
     "name": "stdout",
     "output_type": "stream",
     "text": [
      "Accuracy: 0.53005\n"
     ]
    }
   ],
   "source": [
    "classifier = LogisticRegression(solver='liblinear',random_state=0)\n",
    "classifier.fit(X_4_train, Y_4_train)\n",
    "predicted_y = classifier.predict(X_4_test)\n",
    "print('Accuracy: {:.5f}'.format(classifier.score(X_4_test, Y_4_test)))"
   ]
  },
  {
   "cell_type": "markdown",
   "metadata": {},
   "source": [
    "Если же оставить только расчетное расстояние поездки, оно присутствует в проанализированных наборах с лучшими пока результатами."
   ]
  },
  {
   "cell_type": "code",
   "execution_count": 42,
   "metadata": {},
   "outputs": [],
   "source": [
    "X_5 = df_with_final[['distance_km']]\n",
    "Y_5 = df_with_final['driver_response']\n",
    "\n",
    "X_5_train, X_5_test, Y_5_train, Y_5_test = train_test_split(X_5, Y_5, test_size=0.3, random_state=0) "
   ]
  },
  {
   "cell_type": "code",
   "execution_count": 43,
   "metadata": {},
   "outputs": [
    {
     "name": "stdout",
     "output_type": "stream",
     "text": [
      "Accuracy: 0.67366\n"
     ]
    }
   ],
   "source": [
    "classifier = LogisticRegression(solver='liblinear',random_state=0)\n",
    "classifier.fit(X_5_train, Y_5_train)\n",
    "predicted_y = classifier.predict(X_5_test)\n",
    "print('Accuracy: {:.5f}'.format(classifier.score(X_5_test, Y_5_test)))"
   ]
  },
  {
   "cell_type": "markdown",
   "metadata": {},
   "source": [
    "### Вывод\n",
    "Лучший результат - около 68% - получается при анализе всего набора данных. Практически равны ему по точности результаты моделей, который используют расчетное расстояние поездки и расстояние от водителя до заказа, причем расчетное расстояние поездки в одиночку может дать похожий результат."
   ]
  },
  {
   "cell_type": "code",
   "execution_count": 44,
   "metadata": {},
   "outputs": [
    {
     "data": {
      "image/png": "[encoded data removed]",
      "text/plain": [
       "<Figure size 1008x504 with 1 Axes>"
      ]
     },
     "metadata": {
      "needs_background": "light"
     },
     "output_type": "display_data"
    }
   ],
   "source": [
    "# Визуализация\n",
    "\n",
    "f, ax = plt.subplots(figsize=(14, 7))\n",
    "\n",
    "sns.regplot(x=df_with_final['distance_km'],\n",
    "            y=df_with_final['driver_response'],\n",
    "            logistic=True);"
   ]
  },
  {
   "cell_type": "markdown",
   "metadata": {},
   "source": [
    "### Модели с неизвестной финальной точкой поездки"
   ]
  },
  {
   "cell_type": "code",
   "execution_count": 45,
   "metadata": {},
   "outputs": [],
   "source": [
    "A = df_without_final[['weekday_key', 'hour_key', 'driver_order_distance',\n",
    "       'offer_class_group_Economy', 'offer_class_group_Kids',\n",
    "       'offer_class_group_Premium', 'offer_class_group_Standard',\n",
    "       'offer_class_group_VIP', 'offer_class_group_VIP+',\n",
    "       'offer_class_group_XL', 'ride_type_desc_affiliate',\n",
    "       'ride_type_desc_business', 'ride_type_desc_private']]\n",
    "B = df_without_final['driver_response']\n",
    "\n",
    "A_train, A_test, B_train, B_test = train_test_split(A, B, test_size=0.3, random_state=0) "
   ]
  },
  {
   "cell_type": "code",
   "execution_count": 46,
   "metadata": {},
   "outputs": [
    {
     "name": "stdout",
     "output_type": "stream",
     "text": [
      "Accuracy: 0.57753\n"
     ]
    }
   ],
   "source": [
    "classifier = LogisticRegression(solver='liblinear',random_state=0)\n",
    "classifier.fit(A_train, B_train)\n",
    "predicted_y = classifier.predict(A_test)\n",
    "print('Accuracy: {:.5f}'.format(classifier.score(A_test, B_test)))"
   ]
  },
  {
   "cell_type": "code",
   "execution_count": 47,
   "metadata": {},
   "outputs": [],
   "source": [
    "A_2 = df_without_final[['driver_order_distance']]\n",
    "B_2 = df_without_final['driver_response']\n",
    "\n",
    "A_2_train, A_2_test, B_2_train, B_2_test = train_test_split(A_2, B_2, test_size=0.3, random_state=0) "
   ]
  },
  {
   "cell_type": "code",
   "execution_count": 48,
   "metadata": {},
   "outputs": [
    {
     "name": "stdout",
     "output_type": "stream",
     "text": [
      "Accuracy: 0.54787166\n"
     ]
    }
   ],
   "source": [
    "classifier = LogisticRegression(solver='liblinear',random_state=0)\n",
    "classifier.fit(A_2_train, B_2_train)\n",
    "predicted_y = classifier.predict(A_2_test)\n",
    "print('Accuracy: {:.8f}'.format(classifier.score(A_2_test, B_2_test)))"
   ]
  },
  {
   "cell_type": "code",
   "execution_count": 49,
   "metadata": {},
   "outputs": [],
   "source": [
    "A_3 = df_without_final[['offer_class_group_Economy', 'offer_class_group_Kids',\n",
    "       'offer_class_group_Premium', 'offer_class_group_Standard',\n",
    "       'offer_class_group_VIP', 'offer_class_group_VIP+',\n",
    "       'offer_class_group_XL']]\n",
    "B_3 = df_without_final['driver_response']\n",
    "\n",
    "A_3_train, A_3_test, B_3_train, B_3_test = train_test_split(A_3, B_3, test_size=0.3, random_state=0) "
   ]
  },
  {
   "cell_type": "code",
   "execution_count": 50,
   "metadata": {},
   "outputs": [
    {
     "name": "stdout",
     "output_type": "stream",
     "text": [
      "Accuracy: 0.57803912\n"
     ]
    }
   ],
   "source": [
    "classifier = LogisticRegression(solver='liblinear',random_state=0)\n",
    "classifier.fit(A_3_train, B_3_train)\n",
    "predicted_y = classifier.predict(A_3_test)\n",
    "print('Accuracy: {:.8f}'.format(classifier.score(A_3_test, B_3_test)))"
   ]
  },
  {
   "cell_type": "markdown",
   "metadata": {},
   "source": [
    "### Вывод\n",
    "Лучший результат (но всё равно слабый) равен примерно 58% и получается при анализе класса предложения поездки. Это примерно равно результату на всём пакете данных."
   ]
  }
 ],
 "metadata": {
  "kernelspec": {
   "display_name": "Python 3",
   "language": "python",
   "name": "python3"
  },
  "language_info": {
   "codemirror_mode": {
    "name": "ipython",
    "version": 3
   },
   "file_extension": ".py",
   "mimetype": "text/x-python",
   "name": "python",
   "nbconvert_exporter": "python",
   "pygments_lexer": "ipython3",
   "version": "3.7.3"
  }
 },
 "nbformat": 4,
 "nbformat_minor": 4
}
